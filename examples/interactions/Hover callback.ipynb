{
 "cells": [
  {
   "cell_type": "code",
   "execution_count": 3,
   "metadata": {
    "collapsed": true
   },
   "outputs": [],
   "source": [
    "import bokeh"
   ]
  },
  {
   "cell_type": "code",
   "execution_count": 4,
   "metadata": {
    "collapsed": false
   },
   "outputs": [
    {
     "name": "stdout",
     "output_type": "stream",
     "text": [
      "Creating ~/.bokeh directory\n",
      "Creating /Users/srinathv/.bokeh/data directory\n",
      "Using data directory: /Users/srinathv/.bokeh/data\n",
      "Downloading: CGM.csv (1589982 bytes)\n",
      "   1589982 [100.00%]\n",
      "Downloading: US_Counties.zip (3182088 bytes)\n",
      "   3182088 [100.00%]\n",
      "Unpacking: US_Counties.csv\n",
      "Downloading: unemployment09.csv (253301 bytes)\n",
      "    253301 [100.00%]\n",
      "Downloading: AAPL.csv (166698 bytes)\n",
      "    166698 [100.00%]\n",
      "Downloading: FB.csv (9706 bytes)\n",
      "      9706 [100.00%]\n",
      "Downloading: GOOG.csv (113894 bytes)\n",
      "    113894 [100.00%]\n",
      "Downloading: IBM.csv (165625 bytes)\n",
      "    165625 [100.00%]\n",
      "Downloading: MSFT.csv (161614 bytes)\n",
      "    161614 [100.00%]\n",
      "Downloading: WPP2012_SA_DB03_POPULATION_QUINQUENNIAL.zip (5148539 bytes)\n",
      "   5148539 [100.00%]\n",
      "Unpacking: WPP2012_SA_DB03_POPULATION_QUINQUENNIAL.csv\n",
      "Downloading: gapminder_fertility.csv (64346 bytes)\n",
      "     64346 [100.00%]\n",
      "Downloading: gapminder_population.csv (94509 bytes)\n",
      "     94509 [100.00%]\n",
      "Downloading: gapminder_life_expectancy.csv (73243 bytes)\n",
      "     73243 [100.00%]\n",
      "Downloading: gapminder_regions.csv (7781 bytes)\n",
      "      7781 [100.00%]\n"
     ]
    }
   ],
   "source": [
    "\n",
    "bokeh.sampledata.download()"
   ]
  },
  {
   "cell_type": "code",
   "execution_count": 5,
   "metadata": {
    "collapsed": false
   },
   "outputs": [
    {
     "ename": "ImportError",
     "evalue": "cannot import name CustomJS",
     "output_type": "error",
     "traceback": [
      "\u001b[0;31m---------------------------------------------------------------------------\u001b[0m",
      "\u001b[0;31mImportError\u001b[0m                               Traceback (most recent call last)",
      "\u001b[0;32m<ipython-input-5-734c3d69e243>\u001b[0m in \u001b[0;36m<module>\u001b[0;34m()\u001b[0m\n\u001b[1;32m      3\u001b[0m \u001b[0;34m\u001b[0m\u001b[0m\n\u001b[1;32m      4\u001b[0m \u001b[0;32mfrom\u001b[0m \u001b[0mbokeh\u001b[0m\u001b[0;34m.\u001b[0m\u001b[0mplotting\u001b[0m \u001b[0;32mimport\u001b[0m \u001b[0mfigure\u001b[0m\u001b[0;34m,\u001b[0m \u001b[0moutput_notebook\u001b[0m\u001b[0;34m,\u001b[0m \u001b[0mshow\u001b[0m\u001b[0;34m\u001b[0m\u001b[0m\n\u001b[0;32m----> 5\u001b[0;31m \u001b[0;32mfrom\u001b[0m \u001b[0mbokeh\u001b[0m\u001b[0;34m.\u001b[0m\u001b[0mmodels\u001b[0m \u001b[0;32mimport\u001b[0m \u001b[0mColumnDataSource\u001b[0m\u001b[0;34m,\u001b[0m \u001b[0mCircle\u001b[0m\u001b[0;34m,\u001b[0m \u001b[0mHoverTool\u001b[0m\u001b[0;34m,\u001b[0m \u001b[0mCustomJS\u001b[0m\u001b[0;34m\u001b[0m\u001b[0m\n\u001b[0m\u001b[1;32m      6\u001b[0m \u001b[0;34m\u001b[0m\u001b[0m\n\u001b[1;32m      7\u001b[0m \u001b[0;34m\u001b[0m\u001b[0m\n",
      "\u001b[0;31mImportError\u001b[0m: cannot import name CustomJS"
     ]
    }
   ],
   "source": [
    "from bokeh.sampledata.glucose import data\n",
    "(x, y) = (data.ix['2010-10-06'].index.to_series(), data.ix['2010-10-06']['glucose'])\n",
    "\n",
    "from bokeh.plotting import figure, output_notebook, show\n",
    "from bokeh.models import ColumnDataSource, Circle, HoverTool, CustomJS\n",
    "\n",
    "\n",
    "output_notebook()"
   ]
  },
  {
   "cell_type": "code",
   "execution_count": null,
   "metadata": {
    "collapsed": false,
    "scrolled": false
   },
   "outputs": [],
   "source": [
    "# Basic plot setup\n",
    "p = figure(\n",
    "    width=750, \n",
    "    height=300, \n",
    "    x_axis_type=\"datetime\", \n",
    "    outline_line_color=None, \n",
    "    tools=\"\", \n",
    "    toolbar_location=None, \n",
    "    title='Hover over points on line'\n",
    ")\n",
    "p.line(x, y, line_dash=\"4 4\", line_width=1, color='gray')\n",
    "\n",
    "p.xaxis[0].axis_line_color = None\n",
    "p.yaxis[0].axis_line_color = None\n",
    "p.xgrid[0].grid_line_color = None\n",
    "p.ygrid[0].grid_line_alpha =0.5\n",
    "p.xaxis[0].major_label_text_color = 'gray'\n",
    "p.xaxis[0].major_tick_line_color = 'gray'\n",
    "p.yaxis[0].major_label_text_color = 'gray'\n",
    "p.yaxis[0].minor_tick_line_color = None\n",
    "p.yaxis[0].major_tick_line_color = None\n",
    "\n",
    "# Add a circle, that is visible only when selected\n",
    "source = ColumnDataSource({'x': x, 'y': y})\n",
    "size = 20\n",
    "invisible_circle = Circle(x='x', y='y', fill_color='gray', fill_alpha=0.05, line_color=None, size=size)\n",
    "visible_circle = Circle(x='x', y='y', fill_color='firebrick', fill_alpha=0.5, line_color=None, size=size)\n",
    "circle = p.add_glyph(source, invisible_circle, selection_glyph=visible_circle, nonselection_glyph=invisible_circle)\n",
    "\n",
    "# Add a hover tool, that selects the circle\n",
    "code = \"source.set('selected', cb_data['index']);\"\n",
    "callback = CustomJS(args={'source': source}, code=code)\n",
    "p.add_tools(HoverTool(tooltips=None, callback=callback, renderers=[circle], mode='hline'))\n",
    "\n",
    "show(p)"
   ]
  },
  {
   "cell_type": "code",
   "execution_count": null,
   "metadata": {
    "collapsed": true
   },
   "outputs": [],
   "source": []
  }
 ],
 "metadata": {
  "kernelspec": {
   "display_name": "Python 2",
   "language": "python",
   "name": "python2"
  },
  "language_info": {
   "codemirror_mode": {
    "name": "ipython",
    "version": 2
   },
   "file_extension": ".py",
   "mimetype": "text/x-python",
   "name": "python",
   "nbconvert_exporter": "python",
   "pygments_lexer": "ipython2",
   "version": "2.7.10"
  }
 },
 "nbformat": 4,
 "nbformat_minor": 0
}
